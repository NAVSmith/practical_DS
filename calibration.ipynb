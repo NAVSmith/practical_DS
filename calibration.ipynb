{
 "cells": [
  {
   "cell_type": "code",
   "execution_count": 143,
   "metadata": {},
   "outputs": [],
   "source": [
    "import numpy as np\n",
    "import pandas as pd\n",
    "\n",
    "from matplotlib import pyplot as plt\n",
    "\n",
    "np.set_printoptions(precision=6)\n",
    "np.set_printoptions(suppress=False)"
   ]
  },
  {
   "cell_type": "code",
   "execution_count": 144,
   "metadata": {},
   "outputs": [],
   "source": [
    "arry = np.genfromtxt('./data/prob_y_test.csv', delimiter=',')"
   ]
  },
  {
   "cell_type": "code",
   "execution_count": 145,
   "metadata": {},
   "outputs": [],
   "source": [
    "prob_1 = arry[:,1]"
   ]
  },
  {
   "cell_type": "code",
   "execution_count": 146,
   "metadata": {},
   "outputs": [],
   "source": [
    "y_test_label = np.genfromtxt('./data/y_test.csv', delimiter=',')\n",
    "lengh_y = len(y_test_label) "
   ]
  },
  {
   "cell_type": "code",
   "execution_count": 147,
   "metadata": {},
   "outputs": [],
   "source": [
    "probab = np.array([list(i) for i in zip(prob_1, y_test_label)])"
   ]
  },
  {
   "cell_type": "code",
   "execution_count": 148,
   "metadata": {},
   "outputs": [],
   "source": [
    "df = pd.DataFrame(probab)\n",
    "df.columns = ['probabilty_predicted', 'probabilty_real']\n",
    "df = df.sort_values(by='probabilty_predicted', ascending=False, inplace=False)"
   ]
  },
  {
   "cell_type": "code",
   "execution_count": 149,
   "metadata": {},
   "outputs": [
    {
     "data": {
      "text/html": [
       "<div>\n",
       "<style scoped>\n",
       "    .dataframe tbody tr th:only-of-type {\n",
       "        vertical-align: middle;\n",
       "    }\n",
       "\n",
       "    .dataframe tbody tr th {\n",
       "        vertical-align: top;\n",
       "    }\n",
       "\n",
       "    .dataframe thead th {\n",
       "        text-align: right;\n",
       "    }\n",
       "</style>\n",
       "<table border=\"1\" class=\"dataframe\">\n",
       "  <thead>\n",
       "    <tr style=\"text-align: right;\">\n",
       "      <th></th>\n",
       "      <th>probabilty_predicted</th>\n",
       "      <th>probabilty_real</th>\n",
       "    </tr>\n",
       "  </thead>\n",
       "  <tbody>\n",
       "    <tr>\n",
       "      <th>4942</th>\n",
       "      <td>9.999828e-01</td>\n",
       "      <td>0.0</td>\n",
       "    </tr>\n",
       "    <tr>\n",
       "      <th>5803</th>\n",
       "      <td>9.999535e-01</td>\n",
       "      <td>1.0</td>\n",
       "    </tr>\n",
       "    <tr>\n",
       "      <th>3251</th>\n",
       "      <td>9.998820e-01</td>\n",
       "      <td>1.0</td>\n",
       "    </tr>\n",
       "    <tr>\n",
       "      <th>1340</th>\n",
       "      <td>9.998466e-01</td>\n",
       "      <td>1.0</td>\n",
       "    </tr>\n",
       "    <tr>\n",
       "      <th>477</th>\n",
       "      <td>9.998199e-01</td>\n",
       "      <td>1.0</td>\n",
       "    </tr>\n",
       "    <tr>\n",
       "      <th>...</th>\n",
       "      <td>...</td>\n",
       "      <td>...</td>\n",
       "    </tr>\n",
       "    <tr>\n",
       "      <th>725</th>\n",
       "      <td>8.541748e-22</td>\n",
       "      <td>0.0</td>\n",
       "    </tr>\n",
       "    <tr>\n",
       "      <th>4262</th>\n",
       "      <td>3.194189e-22</td>\n",
       "      <td>0.0</td>\n",
       "    </tr>\n",
       "    <tr>\n",
       "      <th>3322</th>\n",
       "      <td>3.432949e-23</td>\n",
       "      <td>0.0</td>\n",
       "    </tr>\n",
       "    <tr>\n",
       "      <th>3504</th>\n",
       "      <td>1.356362e-24</td>\n",
       "      <td>0.0</td>\n",
       "    </tr>\n",
       "    <tr>\n",
       "      <th>4703</th>\n",
       "      <td>1.614675e-25</td>\n",
       "      <td>0.0</td>\n",
       "    </tr>\n",
       "  </tbody>\n",
       "</table>\n",
       "<p>6200 rows × 2 columns</p>\n",
       "</div>"
      ],
      "text/plain": [
       "      probabilty_predicted  probabilty_real\n",
       "4942          9.999828e-01              0.0\n",
       "5803          9.999535e-01              1.0\n",
       "3251          9.998820e-01              1.0\n",
       "1340          9.998466e-01              1.0\n",
       "477           9.998199e-01              1.0\n",
       "...                    ...              ...\n",
       "725           8.541748e-22              0.0\n",
       "4262          3.194189e-22              0.0\n",
       "3322          3.432949e-23              0.0\n",
       "3504          1.356362e-24              0.0\n",
       "4703          1.614675e-25              0.0\n",
       "\n",
       "[6200 rows x 2 columns]"
      ]
     },
     "execution_count": 149,
     "metadata": {},
     "output_type": "execute_result"
    }
   ],
   "source": [
    "df"
   ]
  },
  {
   "cell_type": "code",
   "execution_count": 150,
   "metadata": {},
   "outputs": [
    {
     "data": {
      "text/plain": [
       "(6200,)"
      ]
     },
     "execution_count": 150,
     "metadata": {},
     "output_type": "execute_result"
    }
   ],
   "source": [
    "y_test_label.shape"
   ]
  },
  {
   "cell_type": "code",
   "execution_count": 151,
   "metadata": {},
   "outputs": [],
   "source": [
    "bucket = []\n",
    "probabilty_real = []\n",
    "probabilty_predicted = []\n",
    "last_index = 0\n",
    "for i in range(99, lengh_y, 100):\n",
    "    pred_bucket_mean = df.probabilty_predicted.values[last_index : i].mean()\n",
    "    real_buckt_mean = df.probabilty_real.values[last_index : i].mean()\n",
    "    probabilty_predicted.append(pred_bucket_mean)\n",
    "    probabilty_real.append(real_buckt_mean)\n",
    "    error = (real_buckt_mean - pred_bucket_mean) ** 2\n",
    "    bucket.append(error)\n",
    "    last_index = i+1\n",
    "    "
   ]
  },
  {
   "cell_type": "code",
   "execution_count": 152,
   "metadata": {},
   "outputs": [
    {
     "data": {
      "text/plain": [
       "0.05751207754728155"
      ]
     },
     "execution_count": 152,
     "metadata": {},
     "output_type": "execute_result"
    }
   ],
   "source": [
    "sum(bucket) / len(bucket)"
   ]
  },
  {
   "cell_type": "code",
   "execution_count": 153,
   "metadata": {},
   "outputs": [
    {
     "data": {
      "text/plain": [
       "[0.6666666666666666,\n",
       " 0.29292929292929293,\n",
       " 0.1111111111111111,\n",
       " 0.1919191919191919,\n",
       " 0.1111111111111111,\n",
       " 0.010101010101010102,\n",
       " 0.1111111111111111,\n",
       " 0.050505050505050504,\n",
       " 0.050505050505050504,\n",
       " 0.050505050505050504,\n",
       " 0.020202020202020204,\n",
       " 0.06060606060606061,\n",
       " 0.04040404040404041,\n",
       " 0.020202020202020204,\n",
       " 0.020202020202020204,\n",
       " 0.0,\n",
       " 0.010101010101010102,\n",
       " 0.020202020202020204,\n",
       " 0.010101010101010102,\n",
       " 0.010101010101010102,\n",
       " 0.0,\n",
       " 0.010101010101010102,\n",
       " 0.0,\n",
       " 0.0,\n",
       " 0.0,\n",
       " 0.010101010101010102,\n",
       " 0.010101010101010102,\n",
       " 0.0,\n",
       " 0.0,\n",
       " 0.0,\n",
       " 0.0,\n",
       " 0.0,\n",
       " 0.0,\n",
       " 0.0,\n",
       " 0.0,\n",
       " 0.0,\n",
       " 0.0,\n",
       " 0.0,\n",
       " 0.0,\n",
       " 0.0,\n",
       " 0.0,\n",
       " 0.0,\n",
       " 0.0,\n",
       " 0.0,\n",
       " 0.0,\n",
       " 0.0,\n",
       " 0.0,\n",
       " 0.0,\n",
       " 0.0,\n",
       " 0.0,\n",
       " 0.0,\n",
       " 0.0,\n",
       " 0.0,\n",
       " 0.0,\n",
       " 0.0,\n",
       " 0.0,\n",
       " 0.0,\n",
       " 0.0,\n",
       " 0.0,\n",
       " 0.0,\n",
       " 0.0,\n",
       " 0.0]"
      ]
     },
     "execution_count": 153,
     "metadata": {},
     "output_type": "execute_result"
    }
   ],
   "source": [
    "probabilty_real"
   ]
  },
  {
   "cell_type": "code",
   "execution_count": 154,
   "metadata": {},
   "outputs": [
    {
     "data": {
      "text/plain": [
       "[0.9852012042592663,\n",
       " 0.9194891084076324,\n",
       " 0.8494758329009073,\n",
       " 0.7936531095497269,\n",
       " 0.7369233121160936,\n",
       " 0.6817945739583764,\n",
       " 0.6260831069555752,\n",
       " 0.5490166335960548,\n",
       " 0.4679843952538985,\n",
       " 0.4117168969477053,\n",
       " 0.36833506570229596,\n",
       " 0.33342100517151063,\n",
       " 0.3024230469549616,\n",
       " 0.27264438067894853,\n",
       " 0.24236956829175998,\n",
       " 0.21281017928363047,\n",
       " 0.18638363657220508,\n",
       " 0.1554640200820315,\n",
       " 0.1255463190753098,\n",
       " 0.09879055387164162,\n",
       " 0.07309835722033764,\n",
       " 0.05385528626129498,\n",
       " 0.03950669853295785,\n",
       " 0.027476355109607824,\n",
       " 0.01808440233485835,\n",
       " 0.00998960739125873,\n",
       " 0.005660922822431362,\n",
       " 0.0034149164246952113,\n",
       " 0.0018788797551681838,\n",
       " 0.0011226376621166056,\n",
       " 0.000753923385446267,\n",
       " 0.000535373852080026,\n",
       " 0.0003859285937869477,\n",
       " 0.0002893684893023964,\n",
       " 0.0002108731162010005,\n",
       " 0.00014977460914404226,\n",
       " 0.0001054036800421337,\n",
       " 7.444987704332854e-05,\n",
       " 5.366938192606722e-05,\n",
       " 3.7810607805173656e-05,\n",
       " 2.559037886197235e-05,\n",
       " 1.70216594085816e-05,\n",
       " 1.0939195285706146e-05,\n",
       " 7.2155125321493505e-06,\n",
       " 4.6097070908617546e-06,\n",
       " 2.5564175355735717e-06,\n",
       " 1.33358190677765e-06,\n",
       " 6.644847638869755e-07,\n",
       " 3.449441573751654e-07,\n",
       " 1.726926393709925e-07,\n",
       " 8.777450103248868e-08,\n",
       " 4.556721089203458e-08,\n",
       " 2.3816371714877344e-08,\n",
       " 1.1804017508345337e-08,\n",
       " 5.480549205914759e-09,\n",
       " 2.455105408998512e-09,\n",
       " 8.856656608855041e-10,\n",
       " 2.7908069207481424e-10,\n",
       " 4.809827800151204e-11,\n",
       " 5.47853158964562e-12,\n",
       " 3.1726212143070194e-13,\n",
       " 6.079757314957947e-15]"
      ]
     },
     "execution_count": 154,
     "metadata": {},
     "output_type": "execute_result"
    }
   ],
   "source": [
    "probabilty_predicted"
   ]
  },
  {
   "cell_type": "code",
   "execution_count": 155,
   "metadata": {},
   "outputs": [],
   "source": [
    "df = pd.DataFrame(data=[probabilty_real, probabilty_predicted]).transpose()\n",
    "df.columns = ['probabilty_real', 'probabilty_predicted']"
   ]
  },
  {
   "cell_type": "code",
   "execution_count": null,
   "metadata": {},
   "outputs": [],
   "source": []
  },
  {
   "cell_type": "code",
   "execution_count": 156,
   "metadata": {},
   "outputs": [
    {
     "data": {
      "text/plain": [
       "[<matplotlib.lines.Line2D at 0x112e06c40>]"
      ]
     },
     "execution_count": 156,
     "metadata": {},
     "output_type": "execute_result"
    },
    {
     "data": {
      "image/png": "[encoded data removed]",
      "text/plain": [
       "<Figure size 720x576 with 1 Axes>"
      ]
     },
     "metadata": {
      "needs_background": "light"
     },
     "output_type": "display_data"
    }
   ],
   "source": [
    "plt.close('all')\n",
    "plt.figure(figsize=(10,8))\n",
    "plt.plot(df.probabilty_predicted, df.probabilty_real,linewidth=2)"
   ]
  },
  {
   "cell_type": "code",
   "execution_count": 162,
   "metadata": {},
   "outputs": [
    {
     "data": {
      "text/plain": [
       "0"
      ]
     },
     "execution_count": 162,
     "metadata": {},
     "output_type": "execute_result"
    }
   ],
   "source": [
    "sum(df.isna().sum().values)"
   ]
  },
  {
   "cell_type": "code",
   "execution_count": null,
   "metadata": {},
   "outputs": [],
   "source": []
  }
 ],
 "metadata": {
  "kernelspec": {
   "display_name": "Python 3",
   "language": "python",
   "name": "python3"
  },
  "language_info": {
   "codemirror_mode": {
    "name": "ipython",
    "version": 3
   },
   "file_extension": ".py",
   "mimetype": "text/x-python",
   "name": "python",
   "nbconvert_exporter": "python",
   "pygments_lexer": "ipython3",
   "version": "3.8.5"
  }
 },
 "nbformat": 4,
 "nbformat_minor": 4
}
